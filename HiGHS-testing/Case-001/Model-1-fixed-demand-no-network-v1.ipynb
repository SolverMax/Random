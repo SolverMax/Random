{
 "cells": [
  {
   "cell_type": "markdown",
   "id": "79fd77cf-63a6-412c-b67d-bfddad4c3ae3",
   "metadata": {},
   "source": [
    "# Electricity market - Model 1\n",
    "\n",
    "## Situation\n",
    "Simple electricity market model. No network.\n",
    "\n",
    "Uses solver engine 'cbc' or 'appsi_highs', to compare the results as a way of testing the HiGHS solver.\n",
    "\n",
    "Can uses data files 1 to 3."
   ]
  },
  {
   "cell_type": "code",
   "execution_count": 1,
   "id": "8c764677-f466-4837-8810-d4e243f66082",
   "metadata": {},
   "outputs": [],
   "source": [
    "# Import dependencies\n",
    "\n",
    "import pyomo.environ as pyo\n",
    "import pandas as pd\n",
    "import os.path\n",
    "import json"
   ]
  },
  {
   "cell_type": "code",
   "execution_count": 2,
   "id": "4dcf5c45-078e-4192-a514-3e26b15e9ada",
   "metadata": {},
   "outputs": [],
   "source": [
    "# Get data\n",
    "\n",
    "DataFilename = os.path.join('.', 'market-data-1.json')\n",
    "with open(DataFilename, 'r') as f:\n",
    "    Data = json.load(f)"
   ]
  },
  {
   "cell_type": "code",
   "execution_count": 3,
   "id": "da332667-88df-4489-9190-a1e47e5c8e19",
   "metadata": {},
   "outputs": [],
   "source": [
    "# Declarations\n",
    "\n",
    "Model = pyo.ConcreteModel(name = 'Electricity market Model 1 - ' + Data['Name'])\n",
    "\n",
    "Model.Demand = pyo.Param(within = pyo.NonNegativeReals, initialize = Data['Demand'])\n",
    "\n",
    "Model.VarInitial = pyo.Param(within = pyo.NonNegativeReals, initialize = Data['VarInitial'])\n",
    "Model.VarLBounds = pyo.Param(within = pyo.NonNegativeReals, initialize = Data['VarLBounds'])\n",
    "Model.VarUBounds = pyo.Param(within = pyo.NonNegativeReals, initialize = Data['VarUBounds'])\n",
    "Model.Engine = pyo.Param(within = pyo.Any, initialize = Data['Engine'])\n",
    "Model.TimeLimit = pyo.Param(within = pyo.NonNegativeReals, initialize = Data['TimeLimit'])\n",
    "\n",
    "Generators = Data['Generators']\n",
    "Model.Generators = pyo.Set(initialize = list(Generators.keys()))                 # Pyomo Set rather than Python set\n",
    "\n",
    "Model.VarCost = pyo.Param(Model.Generators, within = pyo.NonNegativeReals, mutable = True)\n",
    "Model.GMin = pyo.Param(Model.Generators, within = pyo.NonNegativeReals, mutable = True)\n",
    "Model.GMax = pyo.Param(Model.Generators, within = pyo.Reals, mutable = True)\n",
    "\n",
    "for s in Model.Generators:    \n",
    "    Model.VarCost[s] = Generators[s]['VarCost']\n",
    "    Model.GMin[s] = Generators[s]['GMin']\n",
    "    Model.GMax[s] = Generators[s]['GMax']"
   ]
  },
  {
   "cell_type": "code",
   "execution_count": 4,
   "id": "9f764559-df5e-4887-bd5a-7fc7e9ce34ae",
   "metadata": {},
   "outputs": [],
   "source": [
    "# Define model\n",
    "\n",
    "Model.Dispatch = pyo.Var(Model.Generators, domain = pyo.NonNegativeReals, initialize = Model.VarInitial, bounds = (Model.VarLBounds, Model.VarUBounds))\n",
    "\n",
    "def rule_demand(Model):\n",
    "    return sum(Model.Dispatch[s] for s in Model.Generators) == Model.Demand   # Total generation must meet demand\n",
    "Model.MeetDemand = pyo.Constraint(rule = rule_demand)\n",
    "\n",
    "def rule_mustrun(Model, S):\n",
    "    return Model.Dispatch[S] >= Model.GMin[S]   # Minimum dispatch for each generator. May include must run minimum\n",
    "Model.MustRun = pyo.Constraint(Model.Generators, rule = rule_mustrun)\n",
    "\n",
    "def rule_capacity(Model, S):\n",
    "    return Model.Dispatch[S] <= Model.GMax[S]   # Maximum dispatch for each generator\n",
    "Model.MaxCapacity = pyo.Constraint(Model.Generators, rule = rule_capacity)\n",
    "\n",
    "def rule_Obj(Model):\n",
    "    return sum(Model.VarCost[s] * Model.Dispatch[s] for s in Model.Generators)   # Total cost of dispatched generation\n",
    "Model.Obj = pyo.Objective(rule = rule_Obj, sense = pyo.minimize)"
   ]
  },
  {
   "cell_type": "code",
   "execution_count": 5,
   "id": "48267cfd-61a7-4b17-87f4-c5fb30fabb5c",
   "metadata": {},
   "outputs": [
    {
     "ename": "ApplicationError",
     "evalue": "Solver <class 'pyomo.contrib.appsi.base.SolverFactoryClass.register.<locals>.decorator.<locals>.LegacySolver'> is not available (NotFound).",
     "output_type": "error",
     "traceback": [
      "\u001b[1;31m---------------------------------------------------------------------------\u001b[0m",
      "\u001b[1;31mApplicationError\u001b[0m                          Traceback (most recent call last)",
      "Input \u001b[1;32mIn [5]\u001b[0m, in \u001b[0;36m<cell line: 5>\u001b[1;34m()\u001b[0m\n\u001b[0;32m      3\u001b[0m Solver \u001b[38;5;241m=\u001b[39m pyo\u001b[38;5;241m.\u001b[39mSolverFactory(pyo\u001b[38;5;241m.\u001b[39mvalue(Model\u001b[38;5;241m.\u001b[39mEngine))\n\u001b[0;32m      4\u001b[0m Model\u001b[38;5;241m.\u001b[39mdual \u001b[38;5;241m=\u001b[39m pyo\u001b[38;5;241m.\u001b[39mSuffix(direction \u001b[38;5;241m=\u001b[39m pyo\u001b[38;5;241m.\u001b[39mSuffix\u001b[38;5;241m.\u001b[39mIMPORT)\n\u001b[1;32m----> 5\u001b[0m Results \u001b[38;5;241m=\u001b[39m \u001b[43mSolver\u001b[49m\u001b[38;5;241;43m.\u001b[39;49m\u001b[43msolve\u001b[49m\u001b[43m(\u001b[49m\u001b[43mModel\u001b[49m\u001b[43m,\u001b[49m\u001b[43m \u001b[49m\u001b[43mload_solutions\u001b[49m\u001b[43m \u001b[49m\u001b[38;5;241;43m=\u001b[39;49m\u001b[43m \u001b[49m\u001b[38;5;28;43;01mFalse\u001b[39;49;00m\u001b[43m,\u001b[49m\u001b[43m \u001b[49m\u001b[43mtee\u001b[49m\u001b[43m \u001b[49m\u001b[38;5;241;43m=\u001b[39;49m\u001b[43m \u001b[49m\u001b[38;5;28;43;01mFalse\u001b[39;49;00m\u001b[43m)\u001b[49m\n",
      "File \u001b[1;32mD:\\OneDrive\\Python\\blog\\lib\\site-packages\\pyomo\\contrib\\appsi\\base.py:1308\u001b[0m, in \u001b[0;36mLegacySolverInterface.solve\u001b[1;34m(self, model, tee, load_solutions, logfile, solnfile, timelimit, report_timing, solver_io, suffixes, options, keepfiles, symbolic_solver_labels)\u001b[0m\n\u001b[0;32m   1305\u001b[0m \u001b[38;5;28;01mif\u001b[39;00m options \u001b[38;5;129;01mis\u001b[39;00m \u001b[38;5;129;01mnot\u001b[39;00m \u001b[38;5;28;01mNone\u001b[39;00m:\n\u001b[0;32m   1306\u001b[0m     \u001b[38;5;28mself\u001b[39m\u001b[38;5;241m.\u001b[39moptions \u001b[38;5;241m=\u001b[39m options\n\u001b[1;32m-> 1308\u001b[0m results: Results \u001b[38;5;241m=\u001b[39m \u001b[38;5;28;43msuper\u001b[39;49m\u001b[43m(\u001b[49m\u001b[43mLegacySolverInterface\u001b[49m\u001b[43m,\u001b[49m\u001b[43m \u001b[49m\u001b[38;5;28;43mself\u001b[39;49m\u001b[43m)\u001b[49m\u001b[38;5;241;43m.\u001b[39;49m\u001b[43msolve\u001b[49m\u001b[43m(\u001b[49m\u001b[43mmodel\u001b[49m\u001b[43m)\u001b[49m\n\u001b[0;32m   1310\u001b[0m legacy_results \u001b[38;5;241m=\u001b[39m LegacySolverResults()\n\u001b[0;32m   1311\u001b[0m legacy_soln \u001b[38;5;241m=\u001b[39m LegacySolution()\n",
      "File \u001b[1;32mD:\\OneDrive\\Python\\blog\\lib\\site-packages\\pyomo\\contrib\\appsi\\solvers\\highs.py:217\u001b[0m, in \u001b[0;36mHighs.solve\u001b[1;34m(self, model, timer)\u001b[0m\n\u001b[0;32m    215\u001b[0m \u001b[38;5;28;01mif\u001b[39;00m model \u001b[38;5;129;01mis\u001b[39;00m \u001b[38;5;129;01mnot\u001b[39;00m \u001b[38;5;28mself\u001b[39m\u001b[38;5;241m.\u001b[39m_model:\n\u001b[0;32m    216\u001b[0m     timer\u001b[38;5;241m.\u001b[39mstart(\u001b[38;5;124m'\u001b[39m\u001b[38;5;124mset_instance\u001b[39m\u001b[38;5;124m'\u001b[39m)\n\u001b[1;32m--> 217\u001b[0m     \u001b[38;5;28;43mself\u001b[39;49m\u001b[38;5;241;43m.\u001b[39;49m\u001b[43mset_instance\u001b[49m\u001b[43m(\u001b[49m\u001b[43mmodel\u001b[49m\u001b[43m)\u001b[49m\n\u001b[0;32m    218\u001b[0m     timer\u001b[38;5;241m.\u001b[39mstop(\u001b[38;5;124m'\u001b[39m\u001b[38;5;124mset_instance\u001b[39m\u001b[38;5;124m'\u001b[39m)\n\u001b[0;32m    219\u001b[0m \u001b[38;5;28;01melse\u001b[39;00m:\n",
      "File \u001b[1;32mD:\\OneDrive\\Python\\blog\\lib\\site-packages\\pyomo\\contrib\\appsi\\solvers\\highs.py:311\u001b[0m, in \u001b[0;36mHighs.set_instance\u001b[1;34m(self, model)\u001b[0m\n\u001b[0;32m    309\u001b[0m \u001b[38;5;28;01mif\u001b[39;00m \u001b[38;5;28mself\u001b[39m\u001b[38;5;241m.\u001b[39m_last_results_object \u001b[38;5;129;01mis\u001b[39;00m \u001b[38;5;129;01mnot\u001b[39;00m \u001b[38;5;28;01mNone\u001b[39;00m:\n\u001b[0;32m    310\u001b[0m     \u001b[38;5;28mself\u001b[39m\u001b[38;5;241m.\u001b[39m_last_results_object\u001b[38;5;241m.\u001b[39msolution_loader\u001b[38;5;241m.\u001b[39minvalidate()\n\u001b[1;32m--> 311\u001b[0m \u001b[38;5;28;01mif\u001b[39;00m \u001b[38;5;129;01mnot\u001b[39;00m \u001b[38;5;28;43mself\u001b[39;49m\u001b[38;5;241;43m.\u001b[39;49m\u001b[43mavailable\u001b[49m\u001b[43m(\u001b[49m\u001b[43m)\u001b[49m:\n\u001b[0;32m    312\u001b[0m     c \u001b[38;5;241m=\u001b[39m \u001b[38;5;28mself\u001b[39m\u001b[38;5;241m.\u001b[39m\u001b[38;5;18m__class__\u001b[39m\n\u001b[0;32m    313\u001b[0m     \u001b[38;5;28;01mraise\u001b[39;00m PyomoException(\n\u001b[0;32m    314\u001b[0m         \u001b[38;5;124mf\u001b[39m\u001b[38;5;124m'\u001b[39m\u001b[38;5;124mSolver \u001b[39m\u001b[38;5;132;01m{\u001b[39;00mc\u001b[38;5;241m.\u001b[39m\u001b[38;5;18m__module__\u001b[39m\u001b[38;5;132;01m}\u001b[39;00m\u001b[38;5;124m.\u001b[39m\u001b[38;5;132;01m{\u001b[39;00mc\u001b[38;5;241m.\u001b[39m\u001b[38;5;18m__qualname__\u001b[39m\u001b[38;5;132;01m}\u001b[39;00m\u001b[38;5;124m is not available \u001b[39m\u001b[38;5;124m'\u001b[39m\n\u001b[0;32m    315\u001b[0m         \u001b[38;5;124mf\u001b[39m\u001b[38;5;124m'\u001b[39m\u001b[38;5;124m(\u001b[39m\u001b[38;5;132;01m{\u001b[39;00m\u001b[38;5;28mself\u001b[39m\u001b[38;5;241m.\u001b[39mavailable()\u001b[38;5;132;01m}\u001b[39;00m\u001b[38;5;124m).\u001b[39m\u001b[38;5;124m'\u001b[39m)\n",
      "File \u001b[1;32mD:\\OneDrive\\Python\\blog\\lib\\site-packages\\pyomo\\contrib\\appsi\\base.py:1378\u001b[0m, in \u001b[0;36mLegacySolverInterface.available\u001b[1;34m(self, exception_flag)\u001b[0m\n\u001b[0;32m   1376\u001b[0m ans \u001b[38;5;241m=\u001b[39m \u001b[38;5;28msuper\u001b[39m(LegacySolverInterface, \u001b[38;5;28mself\u001b[39m)\u001b[38;5;241m.\u001b[39mavailable()\n\u001b[0;32m   1377\u001b[0m \u001b[38;5;28;01mif\u001b[39;00m exception_flag \u001b[38;5;129;01mand\u001b[39;00m \u001b[38;5;129;01mnot\u001b[39;00m ans:\n\u001b[1;32m-> 1378\u001b[0m     \u001b[38;5;28;01mraise\u001b[39;00m ApplicationError(\u001b[38;5;124mf\u001b[39m\u001b[38;5;124m'\u001b[39m\u001b[38;5;124mSolver \u001b[39m\u001b[38;5;132;01m{\u001b[39;00m\u001b[38;5;28mself\u001b[39m\u001b[38;5;241m.\u001b[39m\u001b[38;5;18m__class__\u001b[39m\u001b[38;5;132;01m}\u001b[39;00m\u001b[38;5;124m is not available (\u001b[39m\u001b[38;5;132;01m{\u001b[39;00mans\u001b[38;5;132;01m}\u001b[39;00m\u001b[38;5;124m).\u001b[39m\u001b[38;5;124m'\u001b[39m)\n\u001b[0;32m   1379\u001b[0m \u001b[38;5;28;01mreturn\u001b[39;00m \u001b[38;5;28mbool\u001b[39m(ans)\n",
      "\u001b[1;31mApplicationError\u001b[0m: Solver <class 'pyomo.contrib.appsi.base.SolverFactoryClass.register.<locals>.decorator.<locals>.LegacySolver'> is not available (NotFound)."
     ]
    }
   ],
   "source": [
    "# Solve model\n",
    "\n",
    "Solver = pyo.SolverFactory(pyo.value(Model.Engine))\n",
    "Model.dual = pyo.Suffix(direction = pyo.Suffix.IMPORT)\n",
    "Results = Solver.solve(Model, load_solutions = False, tee = False)"
   ]
  },
  {
   "cell_type": "code",
   "execution_count": null,
   "id": "88ccdb37-2d39-4684-973f-a2e40b02ed62",
   "metadata": {},
   "outputs": [],
   "source": [
    "# Process results\n",
    "\n",
    "WriteSolution = False\n",
    "Optimal = False\n",
    "LimitStop = False\n",
    "Condition = Results.solver.termination_condition\n",
    "\n",
    "if Condition == pyo.TerminationCondition.optimal:\n",
    "    Optimal = True\n",
    "if Condition == pyo.TerminationCondition.maxTimeLimit or Condition == pyo.TerminationCondition.maxIterations:\n",
    "    LimitStop = True\n",
    "if Optimal or LimitStop:\n",
    "    try:\n",
    "        WriteSolution = True\n",
    "        Model.solutions.load_from(Results)                                     # Defer loading results until now, in case there is no solution to load\n",
    "        SolverData = Results.Problem._list\n",
    "        SolutionLB = SolverData[0].lower_bound\n",
    "        SolutionUB = SolverData[0].upper_bound\n",
    "    except:\n",
    "        WriteSolution = False"
   ]
  },
  {
   "cell_type": "code",
   "execution_count": null,
   "id": "af0535d4-9d6d-4e49-99a1-153a766215bb",
   "metadata": {},
   "outputs": [],
   "source": [
    "# Write output\n",
    "\n",
    "print(Model.name, '\\n')\n",
    "print('Status:', Results.solver.termination_condition)\n",
    "print('Solver:', pyo.value(Model.Engine), '\\n')\n",
    "\n",
    "if LimitStop:                                                                  # Indicate how close we are to a solution\n",
    "    print('Objective bounds')\n",
    "    print('----------------')\n",
    "    if SolutionLB is None:\n",
    "        print('Lower:      None')\n",
    "    else:\n",
    "        print(f'Lower: {SolutionLB:9,.2f}')\n",
    "    if SolutionUB is None:\n",
    "        print('Upper:      None\\n')\n",
    "    else:\n",
    "        print(f'Upper: {SolutionUB:9,.2f}\\n')\n",
    "if WriteSolution:\n",
    "    print(f'Total cost = ${Model.Obj():,.2f}\\n')\n",
    "    pd.options.display.float_format = \"{:,.2f}\".format\n",
    "    GenResults = pd.DataFrame()\n",
    "    for s in Model.Generators:\n",
    "        GenResults.loc[s, 'Dispatch'] = pyo.value(Model.Dispatch[s])\n",
    "    display(GenResults)\n",
    "\n",
    "    ConstraintStatus = pd.DataFrame(columns=['lSlack', 'uSlack', 'Dual'])\n",
    "    for c in Model.component_objects(pyo.Constraint, active = True):\n",
    "        for index in c:  # Allow for indexed contraints, like rule_capacity\n",
    "            ConstraintStatus.loc[c[index].name] = [c[index].lslack(), c[index].uslack(), Model.dual[c[index]]]\n",
    "    display(ConstraintStatus)\n",
    "else:\n",
    "    print('No solution loaded\\n')\n",
    "    print('Model:')\n",
    "    Model.pprint()"
   ]
  },
  {
   "cell_type": "code",
   "execution_count": null,
   "id": "49f2c35a-79d5-46e4-8e2d-d380722cbfb9",
   "metadata": {},
   "outputs": [],
   "source": []
  }
 ],
 "metadata": {
  "kernelspec": {
   "display_name": "Python 3 (ipykernel)",
   "language": "python",
   "name": "python3"
  },
  "language_info": {
   "codemirror_mode": {
    "name": "ipython",
    "version": 3
   },
   "file_extension": ".py",
   "mimetype": "text/x-python",
   "name": "python",
   "nbconvert_exporter": "python",
   "pygments_lexer": "ipython3",
   "version": "3.9.7"
  }
 },
 "nbformat": 4,
 "nbformat_minor": 5
}
